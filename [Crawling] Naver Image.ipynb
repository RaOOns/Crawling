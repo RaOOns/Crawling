{
 "cells": [
  {
   "cell_type": "code",
   "execution_count": 1,
   "id": "6372bba5-c6fe-4b83-ba15-8102d5888489",
   "metadata": {},
   "outputs": [],
   "source": [
    "import time\n",
    "import os\n",
    "\n",
    "import urllib.request\n",
    "from bs4 import BeautifulSoup\n",
    "\n",
    "from selenium import webdriver\n",
    "from selenium.webdriver.common.by import By\n",
    "from selenium.webdriver.common.keys import Keys"
   ]
  },
  {
   "cell_type": "markdown",
   "id": "98c4ed03-613f-4662-aad3-117d857eb638",
   "metadata": {},
   "source": [
    "# **Browser Setting**"
   ]
  },
  {
   "cell_type": "code",
   "execution_count": 2,
   "id": "5c7839d5-e3e7-4083-b259-6a59e22439f9",
   "metadata": {},
   "outputs": [
    {
     "name": "stdin",
     "output_type": "stream",
     "text": [
      "검색할 이미지를 입력하세요:  고래\n",
      "저장할 이미지 개수를 입력하세요:  2\n"
     ]
    }
   ],
   "source": [
    "IMAGE = input(\"검색할 이미지를 입력하세요: \")\n",
    "CNT = int(input(\"저장할 이미지 개수를 입력하세요: \"))"
   ]
  },
  {
   "cell_type": "code",
   "execution_count": 3,
   "id": "78f1f383-b7e5-4e3e-9fbc-2f66bf43cd24",
   "metadata": {},
   "outputs": [],
   "source": [
    "### Chrome web 사용.\n",
    "options = webdriver.ChromeOptions()                     # Chrome 창의 옵션을 설정할 수 있는 코드.\n",
    "options.add_argument('--no-sandbox')                    \n",
    "options.add_argument('--disable-dev-shm-usage')         \n",
    "options.add_argument('--headless')                      # headless : Broswer 창을 띄우지 않고 수행 (colab에서는 필수).\n",
    "# options.add_argument(\"window-size = 1920,1080\")       # window size 설정\n",
    "\n",
    "\n",
    "browser = webdriver.Chrome(options = options)           # 위 Option을 적용한 Chrome 창을 실행.\n",
    "browser.maximize_window()                               # browser 창 최대화"
   ]
  },
  {
   "cell_type": "code",
   "execution_count": 4,
   "id": "e2fb6bc8-ad5d-45e5-8f47-fcb5e8ae8e10",
   "metadata": {},
   "outputs": [
    {
     "name": "stdout",
     "output_type": "stream",
     "text": [
      "2개의 이미지 저장 시작!\n",
      "1번쩨 이미지 저장 완료\n",
      "2번쩨 이미지 저장 완료\n",
      "2개의 이미지 저장 완료 후 브라우저 종료!\n"
     ]
    }
   ],
   "source": [
    "### 이미지를 검색할 페이지 이동\n",
    "url = \"https://www.naver.com\"\n",
    "browser.get(url)\n",
    "\n",
    "### 이미지 검색\n",
    "elem = browser.find_element(By.NAME, \"query\")\n",
    "elem.send_keys(IMAGE)\n",
    "elem.send_keys(Keys.ENTER)\n",
    "time.sleep(3)   # 검색 완료까지 대기. \n",
    "\n",
    "### 이미지 탭 클릭\n",
    "elem = browser.find_element(By.XPATH, '//*[@id=\"lnb\"]/div[1]/div/ul/li[2]/a')\n",
    "elem.click()\n",
    "time.sleep(3) \n",
    "\n",
    "### 현재 페이지 정보\n",
    "html = browser.page_source\n",
    "soup = BeautifulSoup(html, 'lxml')\n",
    "\n",
    "\n",
    "### 이미지 크롤링\n",
    "imgs = soup.find_all(\"img\", class_ = \"_image _listImage\")\n",
    "img_list = [img_[\"src\"] for img_ in imgs[:CNT]]\n",
    "\n",
    "\n",
    "### 이미지 저장할 폴더 생성\n",
    "if not os.path.exists(\"./naver_img\"):\n",
    "    os.makedirs(\"./naver_img\")\n",
    "\n",
    "    \n",
    "### 이미지 저장\n",
    "print(\"%d개의 이미지 저장 시작!\" % (CNT))\n",
    "for idx, img_url in enumerate(img_list, 1):\n",
    "    urllib.request.urlretrieve(img_url, \"./naver_img/\" + IMAGE + str(idx) + \".jpg\")\n",
    "    print(\"%d번쩨 이미지 저장 완료\" % (idx))\n",
    "\n",
    "\n",
    "### 브라우저 종료\n",
    "print(\"%d개의 이미지 저장 완료 후 브라우저 종료!\" % (CNT))\n",
    "browser.quit()"
   ]
  },
  {
   "cell_type": "code",
   "execution_count": null,
   "id": "9646672a-60d6-42f0-8bde-f4d078e98797",
   "metadata": {},
   "outputs": [],
   "source": []
  }
 ],
 "metadata": {
  "kernelspec": {
   "display_name": "Python 3 (ipykernel)",
   "language": "python",
   "name": "python3"
  },
  "language_info": {
   "codemirror_mode": {
    "name": "ipython",
    "version": 3
   },
   "file_extension": ".py",
   "mimetype": "text/x-python",
   "name": "python",
   "nbconvert_exporter": "python",
   "pygments_lexer": "ipython3",
   "version": "3.8.7"
  }
 },
 "nbformat": 4,
 "nbformat_minor": 5
}
