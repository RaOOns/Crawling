{
 "cells": [
  {
   "cell_type": "code",
   "execution_count": 167,
   "id": "d622eee3-c397-4ae5-8317-647fbb5c8136",
   "metadata": {},
   "outputs": [
    {
     "name": "stdout",
     "output_type": "stream",
     "text": [
      "Requirement already satisfied: lxml in c:\\users\\dhgus\\appdata\\local\\programs\\python\\python38\\lib\\site-packages (4.9.2)\n"
     ]
    }
   ],
   "source": [
    "# ### Selenium 설치\n",
    "# !pip install selenium\n",
    "\n",
    "# ### lxml 설치\n",
    "# # !python -m pip install --upgrade pip\n",
    "# !pip install lxml\n",
    "\n",
    "# ## 이 부분은 Colab에서 chromdriver 사용 시 오류나는 경우 설치\n",
    "# !apt-get update\n",
    "# !apt install chromium-chromedriver\n",
    "# !cp /usr/lib/chromium-browser/chromedriver /usr/bin\n",
    "\n",
    "# ## Error 발생 시:  Message: Service chromedriver unexpectedly exited. Status code was: 1\n",
    "# !pip install webdriver_manager"
   ]
  },
  {
   "cell_type": "code",
   "execution_count": 1,
   "id": "9b1a4f6b-3052-48c9-aaec-b18b347c4f20",
   "metadata": {},
   "outputs": [],
   "source": [
    "import pandas as pd\n",
    "import time\n",
    "\n",
    "import requests\n",
    "from bs4 import BeautifulSoup\n",
    "from urllib import parse\n",
    "\n",
    "from selenium import webdriver\n",
    "from selenium.webdriver.common.keys import Keys\n",
    "from selenium.webdriver.common.by import By\n",
    "from selenium.webdriver.support.ui import WebDriverWait\n",
    "from selenium.webdriver.support import expected_conditions as EC"
   ]
  },
  {
   "cell_type": "markdown",
   "id": "a56ba520-1dc9-4d9f-8aec-ab37142c19b5",
   "metadata": {},
   "source": [
    "# **Browser Setting**"
   ]
  },
  {
   "cell_type": "code",
   "execution_count": 101,
   "id": "85498c88-bc9a-49f7-b8bb-7dda89be7f5b",
   "metadata": {},
   "outputs": [],
   "source": [
    "### Chrome web 사용.\n",
    "\n",
    "options = webdriver.ChromeOptions()                     # Chrome 창의 옵션을 설정할 수 있는 코드.\n",
    "options.add_argument('--no-sandbox')                    \n",
    "options.add_argument('--disable-dev-shm-usage')         \n",
    "options.add_argument('--headless')                      # headless : Broswer 창을 띄우지 않고 수행 (colab에서는 필수).\n",
    "# options.add_argument(\"window-size = 1920,1080\")       # window size 설정\n",
    "\n",
    "\n",
    "browser = webdriver.Chrome(options = options)           # 위 Option을 적용한 Chrome 창을 실행.\n",
    "browser.maximize_window()                               # browser 창 최대화"
   ]
  },
  {
   "cell_type": "markdown",
   "id": "a39c6090-4804-4c65-9195-8bf5d9cafacc",
   "metadata": {},
   "source": [
    "# **특정 Youtube 접속**"
   ]
  },
  {
   "cell_type": "markdown",
   "id": "927c4c66-d294-450b-886a-ecefb1d8278d",
   "metadata": {},
   "source": [
    "## **1. 검색과 클릭으로 접속**"
   ]
  },
  {
   "cell_type": "code",
   "execution_count": 102,
   "id": "61d63851-9942-472f-8672-94a467fd301c",
   "metadata": {},
   "outputs": [],
   "source": [
    "# ### 페이지 이동\n",
    "# url = \"https://www.youtube.com\"\n",
    "# browser.get(url)\n",
    "\n",
    "# ### 유튜버 검색\n",
    "# elem = browser.find_element(\"name\", \"search_query\")\n",
    "# elem.send_keys(\"앰비션\")\n",
    "# elem.send_keys(Keys.ENTER)\n",
    "# time.sleep(2)   # 검색 완료까지 대기. \n",
    "\n",
    "# #### 유튜브 채널 입장\n",
    "# elem = browser.find_element(\"id\", \"main-link\")\n",
    "# elem.click()\n",
    "\n",
    "# #### 유튜브 동영상 목록 \n",
    "# # WebDriverWait(browser, n).until(): until에서 설정한 Event가 완료될때까지 n초 대기\n",
    "# # EC.presence_of_element_located: Element 존재여부 확인\n",
    "# # By.PARTIAL_LINK_TEXT: 보이는 텍스트에 검색 값이 포함된 앵커 요소를 찾으며, 여러 요소가 일치하는 경우 첫 번째 요소만 선택.\n",
    "# try :\n",
    "#     elem = WebDriverWait(browser, 10).until(EC.presence_of_element_located((By.PARTIAL_LINK_TEXT, \"동영상\")))\n",
    "#     elem.click()\n",
    "\n",
    "# finally :  # 동작 완료 및 실패 시\n",
    "#     pass\n",
    "\n",
    "# time.sleep(2)"
   ]
  },
  {
   "cell_type": "markdown",
   "id": "d22571dd-9635-46e1-97ff-21b358713a41",
   "metadata": {},
   "source": [
    "## **2. URL 직접 입력 접속**"
   ]
  },
  {
   "cell_type": "code",
   "execution_count": 103,
   "id": "86d946e7-bad3-4e5b-b0a0-3023720ca92c",
   "metadata": {},
   "outputs": [],
   "source": [
    "url = \"https://www.youtube.com/@AMTUBE/videos\"\n",
    "browser.get(url)"
   ]
  },
  {
   "cell_type": "markdown",
   "id": "58e9aafd-0426-4618-8397-48a73b67345b",
   "metadata": {},
   "source": [
    "# **특정 유튜브의 동영상 댓글 긁어오기**"
   ]
  },
  {
   "cell_type": "markdown",
   "id": "c62bbfca-1a24-4c25-bc65-762bfb99922c",
   "metadata": {},
   "source": [
    "## **_동영상 URL 모으기**"
   ]
  },
  {
   "cell_type": "code",
   "execution_count": 104,
   "id": "b2fc402f-3c47-45cc-acb4-5d18a2f4199c",
   "metadata": {},
   "outputs": [],
   "source": [
    "soup = BeautifulSoup(browser.page_source, 'html.parser')\n",
    "TL_list = soup.select(\"div#contents div#content a#video-title-link\")\n",
    "\n",
    "TL_df = pd.DataFrame(columns = [\"Title\", \"Link\"])\n",
    "for tag_ in TL_list:\n",
    "    title = tag_.text\n",
    "    link = parse.urljoin(url, tag_.get(\"href\"))\n",
    "    temp = pd.DataFrame([title, link], index = [\"Title\", \"Link\"]).T\n",
    "    TL_df = pd.concat([TL_df, temp], axis = 0)\n",
    "\n",
    "TL_df.reset_index(drop = True, inplace = True)"
   ]
  },
  {
   "cell_type": "code",
   "execution_count": 105,
   "id": "57b7222d-8621-4f15-80d1-60311abc8cd0",
   "metadata": {},
   "outputs": [
    {
     "data": {
      "text/html": [
       "<div>\n",
       "<style scoped>\n",
       "    .dataframe tbody tr th:only-of-type {\n",
       "        vertical-align: middle;\n",
       "    }\n",
       "\n",
       "    .dataframe tbody tr th {\n",
       "        vertical-align: top;\n",
       "    }\n",
       "\n",
       "    .dataframe thead th {\n",
       "        text-align: right;\n",
       "    }\n",
       "</style>\n",
       "<table border=\"1\" class=\"dataframe\">\n",
       "  <thead>\n",
       "    <tr style=\"text-align: right;\">\n",
       "      <th></th>\n",
       "      <th>Title</th>\n",
       "      <th>Link</th>\n",
       "    </tr>\n",
       "  </thead>\n",
       "  <tbody>\n",
       "    <tr>\n",
       "      <th>0</th>\n",
       "      <td>원딜 멘탈 케어하기 (난이도 : 극악)</td>\n",
       "      <td>https://www.youtube.com/watch?v=RGJblo-J8Mk</td>\n",
       "    </tr>\n",
       "    <tr>\n",
       "      <th>1</th>\n",
       "      <td>'떨어지는 강찬밥과 고수달'</td>\n",
       "      <td>https://www.youtube.com/watch?v=bTj5lO-fNZU</td>\n",
       "    </tr>\n",
       "    <tr>\n",
       "      <th>2</th>\n",
       "      <td>왜?.. 나한테만..? 왜?</td>\n",
       "      <td>https://www.youtube.com/watch?v=1iu0yu5Hqkw</td>\n",
       "    </tr>\n",
       "  </tbody>\n",
       "</table>\n",
       "</div>"
      ],
      "text/plain": [
       "                   Title                                         Link\n",
       "0  원딜 멘탈 케어하기 (난이도 : 극악)  https://www.youtube.com/watch?v=RGJblo-J8Mk\n",
       "1        '떨어지는 강찬밥과 고수달'  https://www.youtube.com/watch?v=bTj5lO-fNZU\n",
       "2        왜?.. 나한테만..? 왜?  https://www.youtube.com/watch?v=1iu0yu5Hqkw"
      ]
     },
     "execution_count": 105,
     "metadata": {},
     "output_type": "execute_result"
    }
   ],
   "source": [
    "TL_df.head(3)"
   ]
  },
  {
   "cell_type": "markdown",
   "id": "c212f23a-f233-48e6-801a-8ffac7117b11",
   "metadata": {},
   "source": [
    "## **_동영상 접속 후 댓글 긁어오기**"
   ]
  },
  {
   "cell_type": "code",
   "execution_count": 106,
   "id": "162d503c-5aff-4ba8-a0d2-3a5373e58d7a",
   "metadata": {},
   "outputs": [
    {
     "name": "stdout",
     "output_type": "stream",
     "text": [
      "==================================================\n",
      "1번째 동영상 댓글 크롤링 시작!\n",
      " -스크롤 완료! | (현재 페이지 높이 : 5658)\n",
      " -수집한 누적 댓글 수: 40개\n",
      "1번째 동영상 댓글 크롤링 끝!\n",
      "==================================================\n",
      "2번째 동영상 댓글 크롤링 시작!\n",
      " -스크롤 완료! | (현재 페이지 높이 : 5734)\n",
      " -수집한 누적 댓글 수: 80개\n",
      "2번째 동영상 댓글 크롤링 끝!\n",
      "==================================================\n",
      "3번째 동영상 댓글 크롤링 시작!\n",
      " -스크롤 완료! | (현재 페이지 높이 : 5773)\n",
      " -수집한 누적 댓글 수: 120개\n",
      "3번째 동영상 댓글 크롤링 끝!\n"
     ]
    }
   ],
   "source": [
    "# 유튜브 동영상 들어가기\n",
    "\n",
    "Comment_dict = {}\n",
    "Comment_cnt = 0\n",
    "\n",
    "for i in range(0, 3) :   # 3개의 동영상\n",
    "    \n",
    "    ######################## 유튜브 댓글 긁기위해 i번째 동영상 링크 접속 ########################\n",
    "    browser.get(TL_df.loc[i, \"Link\"])\n",
    "    print(\"==\"*25)\n",
    "    print(\"%d번째 동영상 댓글 크롤링 시작!\" % (i+1))\n",
    "\n",
    "    \n",
    "    ######################## 댓글을 보기 위해 스크롤 내리기 ########################\n",
    "    \n",
    "    interval = 3    # 3초에 한번씩 스크롤 내림\n",
    "\n",
    "    now_height = browser.execute_script(\"return document.documentElement.scrollHeight\")     # now_height: 현재의 스크롤 높이로 사용  // # 네이버의 경우 documentElement 대신 body\n",
    "    site_height = browser.execute_script(\"return document.documentElement.scrollHeight\")    # site_height: 화면의 스크롤 높이로 저장\n",
    "\n",
    "    time.sleep(5)\n",
    "    browser.execute_script(\"window.scrollTo(0, 1000)\")   # 한 번 내리고 댓글 로딩 대기.\n",
    "    time.sleep(5)\n",
    "\n",
    "    # 반복 수행\n",
    "    while True :\n",
    "        \n",
    "        browser.execute_script(\"window.scrollTo(0, document.documentElement.scrollHeight)\")   # 스크롤을 가장 아래로 내림\n",
    "\n",
    "        time.sleep(interval)   # 페이지 로딩 대기\n",
    "\n",
    "        # 현재 문서 높이를 가져와 저장\n",
    "        curr_height = browser.execute_script(\"return document.documentElement.scrollHeight\")\n",
    "        if curr_height >= site_height * 3 :     # 스크롤 3번 내리면 정지\n",
    "            break\n",
    "\n",
    "        now_height = curr_height                # 과거 높이를 현재 높이로 업데이트\n",
    "\n",
    "    print(\" -스크롤 완료! | (현재 페이지 높이 : %d)\" % (curr_height))\n",
    "    \n",
    "\n",
    "    ######################## ID와 댓글 긁어오기 ########################\n",
    "    soup = BeautifulSoup(browser.page_source , \"lxml\")\n",
    "    \n",
    "    # 댓글 박스 가져오기\n",
    "    comment_box = soup.select(\"ytd-item-section-renderer#sections > div#contents\")[0]\n",
    "\n",
    "    # 댓글 리스트 길이 가져오기\n",
    "    comment_len = len(comment_box.select(\"ytd-comment-thread-renderer.style-scope.ytd-item-section-renderer\"))\n",
    "    Comment_cnt += comment_len\n",
    "    print(\" -수집한 누적 댓글 수: %d개\" % (Comment_cnt))\n",
    "\n",
    "    # 반복문 작업\n",
    "    for idx in range(comment_len) :\n",
    "        # 댓글 리스트 가져오기\n",
    "        comments = comment_box.select(\"ytd-comment-thread-renderer.style-scope.ytd-item-section-renderer\")\n",
    "\n",
    "        name = comments[idx].select_one(\"a#author-text\").text.strip()\n",
    "        comment = comments[idx].select_one(\"yt-formatted-string#content-text\").text.strip()\n",
    "        try:\n",
    "            like = comments[idx].select_one(\"span#vote-count-middle\").attrs['aria-label']\n",
    "        except :\n",
    "            like = \"\"\n",
    "        \n",
    "        Comment_dict[name] = {\"Like\": like, \"Comment\": comment}\n",
    "\n",
    "    print(\"%d번째 동영상 댓글 크롤링 끝!\" % (i+1))"
   ]
  },
  {
   "cell_type": "code",
   "execution_count": 107,
   "id": "bd40265c-61c3-4217-aa28-e439eda2d5f9",
   "metadata": {},
   "outputs": [],
   "source": [
    "### 브라우저 종료\n",
    "browser.quit()"
   ]
  },
  {
   "cell_type": "code",
   "execution_count": 108,
   "id": "16255e5d-a9a3-4225-893a-1c2f7a83ea91",
   "metadata": {},
   "outputs": [
    {
     "name": "stdout",
     "output_type": "stream",
     "text": [
      "(98, 3)\n"
     ]
    },
    {
     "data": {
      "text/html": [
       "<div>\n",
       "<style scoped>\n",
       "    .dataframe tbody tr th:only-of-type {\n",
       "        vertical-align: middle;\n",
       "    }\n",
       "\n",
       "    .dataframe tbody tr th {\n",
       "        vertical-align: top;\n",
       "    }\n",
       "\n",
       "    .dataframe thead th {\n",
       "        text-align: right;\n",
       "    }\n",
       "</style>\n",
       "<table border=\"1\" class=\"dataframe\">\n",
       "  <thead>\n",
       "    <tr style=\"text-align: right;\">\n",
       "      <th></th>\n",
       "      <th>ID</th>\n",
       "      <th>Comment</th>\n",
       "      <th>Like</th>\n",
       "    </tr>\n",
       "  </thead>\n",
       "  <tbody>\n",
       "    <tr>\n",
       "      <th>0</th>\n",
       "      <td>@choi_yongminsu</td>\n",
       "      <td>️5월 4일️\\nXiao 68승 55패[7승8패]\\n ㄴM 126LP (-13LP)...</td>\n",
       "      <td>좋아요 91개</td>\n",
       "    </tr>\n",
       "    <tr>\n",
       "      <th>1</th>\n",
       "      <td>@SVTmcarat0526</td>\n",
       "      <td>이정도면 같은 팀인게 아닐까 싶을정도로 같은 운명이 되는 두 사람ㅋㅋㅋㅋㅋㅋㅋ</td>\n",
       "      <td>좋아요 59개</td>\n",
       "    </tr>\n",
       "    <tr>\n",
       "      <th>2</th>\n",
       "      <td>@user-xi7nh9ni4p</td>\n",
       "      <td>와 점수변동이 1000을 넘어 1300에 가까워지는 찬밥이형ㅋㅋㅋㅋㅋㅋ 드븐 정신병...</td>\n",
       "      <td>좋아요 18개</td>\n",
       "    </tr>\n",
       "  </tbody>\n",
       "</table>\n",
       "</div>"
      ],
      "text/plain": [
       "                 ID                                            Comment  \\\n",
       "0   @choi_yongminsu  ️5월 4일️\\nXiao 68승 55패[7승8패]\\n ㄴM 126LP (-13LP)...   \n",
       "1    @SVTmcarat0526        이정도면 같은 팀인게 아닐까 싶을정도로 같은 운명이 되는 두 사람ㅋㅋㅋㅋㅋㅋㅋ   \n",
       "2  @user-xi7nh9ni4p  와 점수변동이 1000을 넘어 1300에 가까워지는 찬밥이형ㅋㅋㅋㅋㅋㅋ 드븐 정신병...   \n",
       "\n",
       "      Like  \n",
       "0  좋아요 91개  \n",
       "1  좋아요 59개  \n",
       "2  좋아요 18개  "
      ]
     },
     "execution_count": 108,
     "metadata": {},
     "output_type": "execute_result"
    }
   ],
   "source": [
    "Comment_df = pd.DataFrame.from_dict(Comment_dict, orient = 'index')\n",
    "Comment_df[\"ID\"] = Comment_df.index\n",
    "Comment_df = Comment_df[[\"ID\", \"Comment\", \"Like\"]].reset_index(drop = True)\n",
    "print(Comment_df.shape)\n",
    "Comment_df.head(3)"
   ]
  },
  {
   "cell_type": "code",
   "execution_count": null,
   "id": "1007733d-3baf-42de-b573-a7866265fbad",
   "metadata": {},
   "outputs": [],
   "source": [
    "# Comment_df.to_csv(\"Youtube_comment.csv\", index = False)"
   ]
  },
  {
   "cell_type": "code",
   "execution_count": null,
   "id": "ffbb52d4-53f6-43c2-8041-0c3216268701",
   "metadata": {},
   "outputs": [],
   "source": []
  }
 ],
 "metadata": {
  "kernelspec": {
   "display_name": "Python 3 (ipykernel)",
   "language": "python",
   "name": "python3"
  },
  "language_info": {
   "codemirror_mode": {
    "name": "ipython",
    "version": 3
   },
   "file_extension": ".py",
   "mimetype": "text/x-python",
   "name": "python",
   "nbconvert_exporter": "python",
   "pygments_lexer": "ipython3",
   "version": "3.8.7"
  }
 },
 "nbformat": 4,
 "nbformat_minor": 5
}
