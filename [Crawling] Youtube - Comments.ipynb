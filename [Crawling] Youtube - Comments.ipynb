{
 "cells": [
  {
   "cell_type": "code",
   "execution_count": 1,
   "id": "d622eee3-c397-4ae5-8317-647fbb5c8136",
   "metadata": {},
   "outputs": [],
   "source": [
    "# ### Selenium 설치\n",
    "# !pip install selenium\n",
    "\n",
    "# ### lxml 설치\n",
    "# # !python -m pip install --upgrade pip\n",
    "# !pip install lxml\n",
    "\n",
    "# ## 이 부분은 Colab에서 chromdriver 사용 시 오류나는 경우 설치\n",
    "# !apt-get update\n",
    "# !apt install chromium-chromedriver\n",
    "# !cp /usr/lib/chromium-browser/chromedriver /usr/bin\n",
    "\n",
    "# ## Error 발생 시:  Message: Service chromedriver unexpectedly exited. Status code was: 1\n",
    "# !pip install webdriver_manager"
   ]
  },
  {
   "cell_type": "code",
   "execution_count": 2,
   "id": "9b1a4f6b-3052-48c9-aaec-b18b347c4f20",
   "metadata": {},
   "outputs": [],
   "source": [
    "import time\n",
    "import pandas as pd\n",
    "\n",
    "import requests\n",
    "from bs4 import BeautifulSoup\n",
    "from urllib import parse\n",
    "\n",
    "from selenium import webdriver\n",
    "from selenium.webdriver.common.keys import Keys\n",
    "from selenium.webdriver.common.by import By\n",
    "from selenium.webdriver.support.ui import WebDriverWait\n",
    "from selenium.webdriver.support import expected_conditions as EC"
   ]
  },
  {
   "cell_type": "markdown",
   "id": "a56ba520-1dc9-4d9f-8aec-ab37142c19b5",
   "metadata": {},
   "source": [
    "# **Browser Setting**"
   ]
  },
  {
   "cell_type": "code",
   "execution_count": 3,
   "id": "85498c88-bc9a-49f7-b8bb-7dda89be7f5b",
   "metadata": {},
   "outputs": [],
   "source": [
    "### Chrome web 사용.\n",
    "\n",
    "options = webdriver.ChromeOptions()                     # Chrome 창의 옵션을 설정할 수 있는 코드.\n",
    "options.add_argument('--no-sandbox')                    \n",
    "options.add_argument('--disable-dev-shm-usage')         \n",
    "# options.add_argument('--headless')                      # headless : Broswer 창을 띄우지 않고 수행 (colab에서는 필수).\n",
    "# options.add_argument(\"window-size = 1920,1080\")       # window size 설정\n",
    "\n",
    "\n",
    "browser = webdriver.Chrome(options = options)           # 위 Option을 적용한 Chrome 창을 실행.\n",
    "browser.maximize_window()                               # browser 창 최대화"
   ]
  },
  {
   "cell_type": "markdown",
   "id": "a39c6090-4804-4c65-9195-8bf5d9cafacc",
   "metadata": {},
   "source": [
    "# **특정 Youtube 접속**"
   ]
  },
  {
   "cell_type": "code",
   "execution_count": 4,
   "id": "cdb3fc8b-7343-4939-8d56-e306e3f4455b",
   "metadata": {},
   "outputs": [],
   "source": [
    "YOUTUBER = \"회인사람\"      # 댓글을 가져올 유튜브\n",
    "CNT = 5                   # 댓글을 가져올 동영상 개수\n",
    "INTERVAL = 3              # 페이지 로딩 대기 시간"
   ]
  },
  {
   "cell_type": "markdown",
   "id": "927c4c66-d294-450b-886a-ecefb1d8278d",
   "metadata": {},
   "source": [
    "## **1. 검색과 클릭으로 접속**"
   ]
  },
  {
   "cell_type": "code",
   "execution_count": 5,
   "id": "61d63851-9942-472f-8672-94a467fd301c",
   "metadata": {},
   "outputs": [],
   "source": [
    "### 페이지 이동\n",
    "url = \"https://www.youtube.com\"\n",
    "browser.get(url)\n",
    "time.sleep(INTERVAL) \n",
    "\n",
    "### 유튜버 검색\n",
    "elem = browser.find_element(\"name\", \"search_query\")\n",
    "elem.send_keys(YOUTUBER)\n",
    "elem.send_keys(Keys.ENTER)\n",
    "time.sleep(INTERVAL)   # 검색 완료까지 대기. \n",
    "\n",
    "#### 유튜브 채널 입장\n",
    "elem = browser.find_element(\"id\", \"main-link\")\n",
    "elem.click()\n",
    "time.sleep(INTERVAL)\n",
    "\n",
    "#### 유튜브 동영상 목록 \n",
    "# WebDriverWait(browser, n).until(): until에서 설정한 Event가 완료될때까지 n초 대기\n",
    "# EC.presence_of_element_located: Element 존재여부 확인\n",
    "# By.PARTIAL_LINK_TEXT: 보이는 텍스트에 검색 값이 포함된 앵커 요소를 찾으며, 여러 요소가 일치하는 경우 첫 번째 요소만 선택.\n",
    "try :\n",
    "    elem = WebDriverWait(browser, 10).until(EC.presence_of_element_located((By.PARTIAL_LINK_TEXT, \"동영상\")))\n",
    "    elem.click()\n",
    "\n",
    "finally :  # 동작 완료 및 실패 시\n",
    "    pass\n",
    "\n",
    "time.sleep(INTERVAL)"
   ]
  },
  {
   "cell_type": "markdown",
   "id": "d22571dd-9635-46e1-97ff-21b358713a41",
   "metadata": {},
   "source": [
    "## **2. URL 직접 입력 접속**"
   ]
  },
  {
   "cell_type": "code",
   "execution_count": 6,
   "id": "86d946e7-bad3-4e5b-b0a0-3023720ca92c",
   "metadata": {},
   "outputs": [],
   "source": [
    "# url = \"https://www.youtube.com/@YotuberID/videos\"\n",
    "# browser.get(url)"
   ]
  },
  {
   "cell_type": "markdown",
   "id": "58e9aafd-0426-4618-8397-48a73b67345b",
   "metadata": {},
   "source": [
    "# **특정 유튜브의 동영상 댓글 긁어오기**"
   ]
  },
  {
   "cell_type": "markdown",
   "id": "c62bbfca-1a24-4c25-bc65-762bfb99922c",
   "metadata": {},
   "source": [
    "## **_동영상 URL 모으기**"
   ]
  },
  {
   "cell_type": "code",
   "execution_count": 7,
   "id": "b2fc402f-3c47-45cc-acb4-5d18a2f4199c",
   "metadata": {},
   "outputs": [
    {
     "name": "stdout",
     "output_type": "stream",
     "text": [
      "스크롤 종료!\n"
     ]
    }
   ],
   "source": [
    "### 현재 페이지를 한 번 더 불러와야 오류가 안남\n",
    "browser.get(browser.current_url); time.sleep(INTERVAL)\n",
    "\n",
    "### 모든 동영상을 위해 스크롤 끝까지 내리기\n",
    "now_height = browser.execute_script(\"return document.documentElement.scrollHeight\")\n",
    "while True :\n",
    "    browser.execute_script(\"window.scrollTo(0, document.documentElement.scrollHeight)\")      # 스크롤을 가장 아래로 내림\n",
    "    time.sleep(INTERVAL)                                                                            # 페이지 로딩 대기\n",
    "\n",
    "    curr_height = browser.execute_script(\"return document.documentElement.scrollHeight\")     # 현재 문서 높이를 가져와 저장\n",
    "    if curr_height == now_height :                                                           # 현재 문서 높이가 이전 문서 높이와 같으면 정지\n",
    "        break\n",
    "    now_height = curr_height                                                                 # 과거 높이를 현재 높이로 업데이트\n",
    "print(\"스크롤 종료!\")\n",
    "\n",
    "html = browser.page_source\n",
    "soup = BeautifulSoup(html, 'lxml')\n",
    "\n",
    "video_urls = soup.find_all(\"a\", class_ = \"yt-simple-endpoint focus-on-expand style-scope ytd-rich-grid-media\")\n",
    "\n",
    "video_df = pd.DataFrame(columns = [\"Title\", \"Link\"])\n",
    "for url_ in video_urls:\n",
    "    title = url_[\"title\"]\n",
    "    link = url + url_[\"href\"]\n",
    "    temp = pd.DataFrame([title, link], index = [\"Title\", \"Link\"]).T\n",
    "    video_df = pd.concat([video_df, temp], axis = 0)\n",
    "\n",
    "video_df.reset_index(drop = True, inplace = True)"
   ]
  },
  {
   "cell_type": "code",
   "execution_count": 8,
   "id": "cbf71819-af0e-4585-88c0-da5c2d365d35",
   "metadata": {},
   "outputs": [
    {
     "name": "stdout",
     "output_type": "stream",
     "text": [
      "(8, 2)\n"
     ]
    },
    {
     "data": {
      "text/html": [
       "<div>\n",
       "<style scoped>\n",
       "    .dataframe tbody tr th:only-of-type {\n",
       "        vertical-align: middle;\n",
       "    }\n",
       "\n",
       "    .dataframe tbody tr th {\n",
       "        vertical-align: top;\n",
       "    }\n",
       "\n",
       "    .dataframe thead th {\n",
       "        text-align: right;\n",
       "    }\n",
       "</style>\n",
       "<table border=\"1\" class=\"dataframe\">\n",
       "  <thead>\n",
       "    <tr style=\"text-align: right;\">\n",
       "      <th></th>\n",
       "      <th>Title</th>\n",
       "      <th>Link</th>\n",
       "    </tr>\n",
       "  </thead>\n",
       "  <tbody>\n",
       "    <tr>\n",
       "      <th>0</th>\n",
       "      <td>RG 뉴건담 더블 핀판넬 (일반판으로 재현)</td>\n",
       "      <td>https://www.youtube.com/watch?v=f3ZfnpCxKxw</td>\n",
       "    </tr>\n",
       "    <tr>\n",
       "      <th>1</th>\n",
       "      <td>[건프라] RG 사자비 오버코팅 조립 下편 (외장)</td>\n",
       "      <td>https://www.youtube.com/watch?v=O4xHtS63CvU</td>\n",
       "    </tr>\n",
       "    <tr>\n",
       "      <th>2</th>\n",
       "      <td>[건프라] RG 사자비 오버코팅 조립 上편 (재인코딩)</td>\n",
       "      <td>https://www.youtube.com/watch?v=uaQ6q8r4iU0</td>\n",
       "    </tr>\n",
       "  </tbody>\n",
       "</table>\n",
       "</div>"
      ],
      "text/plain": [
       "                            Title                                         Link\n",
       "0        RG 뉴건담 더블 핀판넬 (일반판으로 재현)  https://www.youtube.com/watch?v=f3ZfnpCxKxw\n",
       "1    [건프라] RG 사자비 오버코팅 조립 下편 (외장)  https://www.youtube.com/watch?v=O4xHtS63CvU\n",
       "2  [건프라] RG 사자비 오버코팅 조립 上편 (재인코딩)  https://www.youtube.com/watch?v=uaQ6q8r4iU0"
      ]
     },
     "execution_count": 8,
     "metadata": {},
     "output_type": "execute_result"
    }
   ],
   "source": [
    "print(video_df.shape)\n",
    "video_df.head(3)"
   ]
  },
  {
   "cell_type": "markdown",
   "id": "c212f23a-f233-48e6-801a-8ffac7117b11",
   "metadata": {},
   "source": [
    "## **_동영상 접속 후 댓글 긁어오기**"
   ]
  },
  {
   "cell_type": "code",
   "execution_count": 9,
   "id": "162d503c-5aff-4ba8-a0d2-3a5373e58d7a",
   "metadata": {},
   "outputs": [
    {
     "name": "stdout",
     "output_type": "stream",
     "text": [
      "==================================================\n",
      "1번째 동영상 댓글 크롤링 시작!\n",
      " -스크롤 완료! | (현재 페이지 높이 : 2358)\n",
      " -이번에 수집한 댓굴 수: 2개| 누적 댓글 수: 2개\n",
      "1번째 동영상 댓글 크롤링 끝!\n",
      "==================================================\n",
      "2번째 동영상 댓글 크롤링 시작!\n",
      " -스크롤 완료! | (현재 페이지 높이 : 2200)\n",
      " -이번에 수집한 댓굴 수: 4개| 누적 댓글 수: 6개\n",
      "2번째 동영상 댓글 크롤링 끝!\n",
      "==================================================\n",
      "3번째 동영상 댓글 크롤링 시작!\n",
      " -스크롤 완료! | (현재 페이지 높이 : 2192)\n",
      " -이번에 수집한 댓굴 수: 0개| 누적 댓글 수: 6개\n",
      "3번째 동영상 댓글 크롤링 끝!\n",
      "==================================================\n",
      "4번째 동영상 댓글 크롤링 시작!\n",
      " -스크롤 완료! | (현재 페이지 높이 : 2196)\n",
      " -이번에 수집한 댓굴 수: 2개| 누적 댓글 수: 8개\n",
      "4번째 동영상 댓글 크롤링 끝!\n",
      "==================================================\n",
      "5번째 동영상 댓글 크롤링 시작!\n",
      " -스크롤 완료! | (현재 페이지 높이 : 2192)\n",
      " -이번에 수집한 댓굴 수: 3개| 누적 댓글 수: 11개\n",
      "5번째 동영상 댓글 크롤링 끝!\n"
     ]
    }
   ],
   "source": [
    "# 유튜브 동영상 들어가 댓글 긁어오기\n",
    "Comment_dict = {}         # 댓글을 저장할 dictionary\n",
    "Comment_cnt = 0           # 긁어온 댓글 개수\n",
    "\n",
    "for i in range(0, CNT) :   # 3개의 동영상\n",
    "    \n",
    "    ######################## 유튜브 댓글 긁기위해 i번째 동영상 링크 접속 ########################\n",
    "    browser.get(video_df.loc[i, \"Link\"])\n",
    "    time.sleep(INTERVAL) \n",
    "    print(\"==\"*25)\n",
    "    print(\"%d번째 동영상 댓글 크롤링 시작!\" % (i+1))\n",
    "\n",
    "    \n",
    "    ######################## 댓글을 보기 위해 스크롤 끝까지 내리기 ########################\n",
    "    # 컴퓨터 부팅 속도와 댓들과 같은 상태에따라 스크롤 높이와 시간을 조정해야하는 것 같음    \n",
    "    scroll_cnt = 2   # 2번 스크롤하고 정지\n",
    "    now_height = browser.execute_script(\"return document.documentElement.scrollHeight\")     # now_height: 현재의 스크롤 높이로 사용  // # 네이버의 경우 documentElement 대신 body\n",
    "    site_height = browser.execute_script(\"return document.documentElement.scrollHeight\")    \n",
    "    \n",
    "    # 반복 수행\n",
    "    while scroll_cnt > 0 :\n",
    "        # browser.execute_script(\"window.scrollTo(0, document.documentElement.scrollHeight)\") # 스크롤을 가장 아래로 내림\n",
    "        browser.execute_script(\"window.scrollTo(0, 800)\")                                     # 스크롤을 800만큼 아래로 내림\n",
    "        time.sleep(INTERVAL)                                                                  # 페이지 로딩 대기\n",
    "\n",
    "        curr_height = browser.execute_script(\"return document.documentElement.scrollHeight\")  # 현재 문서 높이를 가져와 저장\n",
    "        scroll_cnt -= 1\n",
    "        \n",
    "    print(\" -스크롤 완료! | (현재 페이지 높이 : %d)\" % (curr_height))\n",
    "    time.sleep(INTERVAL)                                                                     # 페이지 로딩 대기\n",
    "\n",
    "    ######################## ID와 댓글 긁어오기 ########################\n",
    "    soup = BeautifulSoup(browser.page_source , \"lxml\")\n",
    "    \n",
    "    # 댓글 박스 가져오기\n",
    "    comment_box = soup.select(\"ytd-item-section-renderer#sections > div#contents\")[0]\n",
    "\n",
    "    # 댓글 리스트 길이 가져오기\n",
    "    comment_len = len(comment_box.select(\"ytd-comment-thread-renderer.style-scope.ytd-item-section-renderer\"))\n",
    "    Comment_cnt += comment_len\n",
    "    print(\" -이번에 수집한 댓굴 수: %d개| 누적 댓글 수: %d개\" % (comment_len, Comment_cnt))\n",
    "\n",
    "    # 반복문 작업\n",
    "    for idx in range(comment_len) :\n",
    "        # 댓글 리스트 가져오기\n",
    "        comments = comment_box.select(\"ytd-comment-thread-renderer.style-scope.ytd-item-section-renderer\")\n",
    "\n",
    "        name = comments[idx].select_one(\"a#author-text\").text.strip()\n",
    "        comment = comments[idx].select_one(\"yt-formatted-string#content-text\").text.strip()\n",
    "        try:\n",
    "            like = comments[idx].select_one(\"span#vote-count-middle\").attrs['aria-label']\n",
    "        except :\n",
    "            like = \"\"\n",
    "        \n",
    "        Comment_dict[name] = {\"Like\": like, \"Comment\": comment}\n",
    "\n",
    "    print(\"%d번째 동영상 댓글 크롤링 끝!\" % (i+1))"
   ]
  },
  {
   "cell_type": "code",
   "execution_count": 10,
   "id": "bd40265c-61c3-4217-aa28-e439eda2d5f9",
   "metadata": {},
   "outputs": [],
   "source": [
    "### 브라우저 종료\n",
    "browser.quit()"
   ]
  },
  {
   "cell_type": "code",
   "execution_count": 11,
   "id": "16255e5d-a9a3-4225-893a-1c2f7a83ea91",
   "metadata": {},
   "outputs": [
    {
     "name": "stdout",
     "output_type": "stream",
     "text": [
      "(10, 3)\n"
     ]
    },
    {
     "data": {
      "text/html": [
       "<div>\n",
       "<style scoped>\n",
       "    .dataframe tbody tr th:only-of-type {\n",
       "        vertical-align: middle;\n",
       "    }\n",
       "\n",
       "    .dataframe tbody tr th {\n",
       "        vertical-align: top;\n",
       "    }\n",
       "\n",
       "    .dataframe thead th {\n",
       "        text-align: right;\n",
       "    }\n",
       "</style>\n",
       "<table border=\"1\" class=\"dataframe\">\n",
       "  <thead>\n",
       "    <tr style=\"text-align: right;\">\n",
       "      <th></th>\n",
       "      <th>ID</th>\n",
       "      <th>Comment</th>\n",
       "      <th>Like</th>\n",
       "    </tr>\n",
       "  </thead>\n",
       "  <tbody>\n",
       "    <tr>\n",
       "      <th>0</th>\n",
       "      <td>@shmaximum8630</td>\n",
       "      <td>이거 뉴건담인데?? 형이다 구독했다.</td>\n",
       "      <td>좋아요 1개</td>\n",
       "    </tr>\n",
       "    <tr>\n",
       "      <th>1</th>\n",
       "      <td>@v_goghgogh</td>\n",
       "      <td>괜찮아?</td>\n",
       "      <td>좋아요 1개</td>\n",
       "    </tr>\n",
       "    <tr>\n",
       "      <th>2</th>\n",
       "      <td>@TV-iw4wk</td>\n",
       "      <td>너무 멋지네요 조립잘하셨네요 선물드려요 전체설정까지</td>\n",
       "      <td></td>\n",
       "    </tr>\n",
       "  </tbody>\n",
       "</table>\n",
       "</div>"
      ],
      "text/plain": [
       "               ID                       Comment    Like\n",
       "0  @shmaximum8630          이거 뉴건담인데?? 형이다 구독했다.  좋아요 1개\n",
       "1     @v_goghgogh                          괜찮아?  좋아요 1개\n",
       "2       @TV-iw4wk  너무 멋지네요 조립잘하셨네요 선물드려요 전체설정까지        "
      ]
     },
     "execution_count": 11,
     "metadata": {},
     "output_type": "execute_result"
    }
   ],
   "source": [
    "Comment_df = pd.DataFrame.from_dict(Comment_dict, orient = 'index')\n",
    "Comment_df[\"ID\"] = Comment_df.index\n",
    "Comment_df = Comment_df[[\"ID\", \"Comment\", \"Like\"]].reset_index(drop = True)\n",
    "print(Comment_df.shape)\n",
    "Comment_df.head(3)"
   ]
  },
  {
   "cell_type": "code",
   "execution_count": 12,
   "id": "1007733d-3baf-42de-b573-a7866265fbad",
   "metadata": {},
   "outputs": [],
   "source": [
    "Comment_df.to_csv(YOUTUBER + \"'s Youtube_comment.csv\", index = False)"
   ]
  }
 ],
 "metadata": {
  "kernelspec": {
   "display_name": "Python 3 (ipykernel)",
   "language": "python",
   "name": "python3"
  },
  "language_info": {
   "codemirror_mode": {
    "name": "ipython",
    "version": 3
   },
   "file_extension": ".py",
   "mimetype": "text/x-python",
   "name": "python",
   "nbconvert_exporter": "python",
   "pygments_lexer": "ipython3",
   "version": "3.8.7"
  }
 },
 "nbformat": 4,
 "nbformat_minor": 5
}
