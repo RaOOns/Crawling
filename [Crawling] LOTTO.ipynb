{
 "cells": [
  {
   "cell_type": "code",
   "execution_count": 1,
   "id": "11865985-0537-4744-ba0c-e0fa3080a65d",
   "metadata": {},
   "outputs": [],
   "source": [
    "import pandas as pd\n",
    "import random\n",
    "import matplotlib.pyplot as plt\n",
    "import time\n",
    "\n",
    "import requests\n",
    "from bs4 import BeautifulSoup\n",
    "from urllib import parse\n",
    "\n",
    "from selenium import webdriver\n",
    "from selenium.webdriver.common.keys import Keys\n",
    "from selenium.webdriver.common.by import By\n",
    "from selenium.webdriver.support.ui import WebDriverWait\n",
    "from selenium.webdriver.support import expected_conditions as EC"
   ]
  },
  {
   "cell_type": "markdown",
   "id": "40d650fd-0080-473b-9adb-c1d124784c6f",
   "metadata": {},
   "source": [
    "# **Browser Setting**"
   ]
  },
  {
   "cell_type": "code",
   "execution_count": 2,
   "id": "937439ad-ed1f-42e5-864b-16782b315c09",
   "metadata": {},
   "outputs": [],
   "source": [
    "### Chrome web 사용.\n",
    "options = webdriver.ChromeOptions()                     # Chrome 창의 옵션을 설정할 수 있는 코드.\n",
    "options.add_argument('--no-sandbox')                    \n",
    "options.add_argument('--disable-dev-shm-usage')         \n",
    "options.add_argument('--headless')                      # headless : Broswer 창을 띄우지 않고 수행 (colab에서는 필수).\n",
    "# options.add_argument(\"window-size = 1920,1080\")       # window size 설정\n",
    "\n",
    "\n",
    "browser = webdriver.Chrome(options = options)           # 위 Option을 적용한 Chrome 창을 실행.\n",
    "browser.maximize_window()                               # browser 창 최대화"
   ]
  },
  {
   "cell_type": "markdown",
   "id": "56ba1913-a2da-4b9d-9ad9-08cb850918d9",
   "metadata": {},
   "source": [
    "# **Lotto number**"
   ]
  },
  {
   "cell_type": "markdown",
   "id": "11b16339-166b-4f6a-88fb-767d4b3dfa1e",
   "metadata": {},
   "source": [
    "## **_네이버 -> 로또번호 검색**"
   ]
  },
  {
   "cell_type": "code",
   "execution_count": 3,
   "id": "4e7f22dc-c174-441d-a165-9aee7d003bac",
   "metadata": {},
   "outputs": [],
   "source": [
    "### 페이지 이동\n",
    "url = \"https://www.naver.com\"\n",
    "browser.get(url)\n",
    "\n",
    "### 유튜버 검색\n",
    "elem = browser.find_element(By.NAME, \"query\")\n",
    "elem.send_keys(\"로또 번호\")\n",
    "elem.send_keys(Keys.ENTER)\n",
    "time.sleep(2)   # 검색 완료까지 대기. "
   ]
  },
  {
   "cell_type": "markdown",
   "id": "d215d817-4477-4ff7-a127-e0199b4470ba",
   "metadata": {},
   "source": [
    "## **_로또 번호**\n",
    "\n",
    "- 가장 최신 번호 = 전주 로또 번호"
   ]
  },
  {
   "cell_type": "code",
   "execution_count": 4,
   "id": "5839e808-aee7-4b59-b6bc-1af02e195eaf",
   "metadata": {},
   "outputs": [],
   "source": [
    "html = requests.get(browser.current_url)\n",
    "soup = BeautifulSoup(html.text, 'html.parser')\n",
    "\n",
    "bf_turn_ = soup.find(name = 'div', attrs = {'class': 'select_tab'}).find(\"a\").text\n",
    "bf_win_ = soup.find(name = 'div', attrs = {'class': 'winning_number'})\n",
    "\n",
    "bf_win_num, bf_bonus_num = [], []\n",
    "for i in range(6) :\n",
    "    bf_win_num.append(int(bf_win_.findAll(\"span\")[i].text))  # list에 넣어서 결과 보기\n",
    "\n",
    "bf_bonus_num.append(int(soup.find('div', {'class': 'bonus_number'}).find(\"span\").text))\n",
    "\n",
    "browser.quit()"
   ]
  },
  {
   "cell_type": "code",
   "execution_count": 5,
   "id": "4ac72b12-0b47-4df2-86be-9286774c5a56",
   "metadata": {},
   "outputs": [
    {
     "name": "stdout",
     "output_type": "stream",
     "text": [
      "1066회차 (2023.05.06.) LOTTO 당첨 번호:  [6, 11, 16, 19, 21, 32] | 보너스 번호:  [45]\n"
     ]
    }
   ],
   "source": [
    "print(bf_turn_ + \" LOTTO 당첨 번호: \", bf_win_num, \"| 보너스 번호: \", bf_bonus_num)"
   ]
  },
  {
   "cell_type": "markdown",
   "id": "adc87f11-ba99-4113-b743-a99e38aa27ca",
   "metadata": {},
   "source": [
    "## **_로또 번호 선택**"
   ]
  },
  {
   "cell_type": "code",
   "execution_count": 6,
   "id": "b8f8b0c7-d2b5-4cd6-9abb-886afca30e8e",
   "metadata": {},
   "outputs": [],
   "source": [
    "### 똥손이 뽑은 번호\n",
    "shit_hand = {\"BF\" : bf_win_num + bf_bonus_num,\n",
    "             \"DH\" : [1,17,31,41,36,8],\n",
    "             \"HW\" : [1,2,3,21,33,28],\n",
    "             \"JY\" : [1,4,11,12,22,25],\n",
    "             \"HJ\" : [23,36,18,7,9,6],\n",
    "             \"FR\" : [3,5,19,24,12,25],\n",
    "             }"
   ]
  },
  {
   "cell_type": "code",
   "execution_count": 7,
   "id": "d55b94de-0618-469d-8a6c-241d34012a47",
   "metadata": {},
   "outputs": [
    {
     "name": "stdout",
     "output_type": "stream",
     "text": [
      "전체 로또 번호 수: 45개| 제거된 로또 번호 수: 27개| 남은 로또 번호 수: 18개\n",
      "남은 개수 :  18\n"
     ]
    },
    {
     "data": {
      "text/plain": [
       "[10, 13, 14, 15, 20]"
      ]
     },
     "execution_count": 7,
     "metadata": {},
     "output_type": "execute_result"
    }
   ],
   "source": [
    "### 똥손이 뽑은 번호 제거\n",
    "except_num = sum(list(shit_hand.values()), [])\n",
    "except_num = sorted(set(except_num))\n",
    "\n",
    "### 로또 번호 중 똥손 번호 제외하고 남은 번호\n",
    "lotto_num = list(range(1, 46))\n",
    "select_num = sorted(list(set(lotto_num) - set(except_num)))\n",
    "\n",
    "print(\"전체 로또 번호 수: %d개| 제거된 로또 번호 수: %d개| 남은 로또 번호 수: %d개\" % (len(lotto_num), len(except_num), len(select_num)))\n",
    "print(\"남은 개수 : \", len(select_num))\n",
    "select_num[:5]"
   ]
  },
  {
   "cell_type": "code",
   "execution_count": 8,
   "id": "38742725-cd0e-4cd8-a358-12bd2aeb4078",
   "metadata": {},
   "outputs": [
    {
     "data": {
      "image/png": "[encoded data removed]",
      "text/plain": [
       "<Figure size 800x100 with 1 Axes>"
      ]
     },
     "metadata": {},
     "output_type": "display_data"
    }
   ],
   "source": [
    "### 남은 숫자의 분포도\n",
    "plt.figure(figsize = (8, 1))\n",
    "plt.scatter(lotto_num, y = [1]*45, color = \"blue\")\n",
    "plt.scatter(except_num, y = [1]*len(except_num), color = \"white\")\n",
    "plt.yticks([])\n",
    "[plt.axvline(x_, alpha = .5, color = \"gray\", linestyle = \"--\") for x_ in range(10,50,10)];"
   ]
  },
  {
   "cell_type": "code",
   "execution_count": 9,
   "id": "d0c58aa2-cf63-4261-a0bd-02b883fb076c",
   "metadata": {},
   "outputs": [
    {
     "name": "stdout",
     "output_type": "stream",
     "text": [
      "[13, 15, 20, 29, 42, 44]\n",
      "[10, 13, 26, 34, 35, 37]\n",
      "[10, 34, 35, 37, 39, 40]\n",
      "[27, 30, 34, 39, 40, 42]\n",
      "[14, 29, 30, 38, 39, 42]\n"
     ]
    }
   ],
   "source": [
    "### 남은 숫자 중 랜덤으로 6개씩 5번 출력\n",
    "random.seed(717)\n",
    "for i in range(5) :\n",
    "    print(sorted(random.sample(select_num, 6)))"
   ]
  },
  {
   "cell_type": "markdown",
   "id": "e4e5a318-9497-4796-a8d3-927400e06c82",
   "metadata": {},
   "source": [
    "# **당첨 번호 확인**"
   ]
  },
  {
   "cell_type": "code",
   "execution_count": 11,
   "id": "6fe94938-b520-42e7-bf6b-d29b8bac5c67",
   "metadata": {},
   "outputs": [],
   "source": [
    "### Chrome web 사용.\n",
    "options = webdriver.ChromeOptions()                     # Chrome 창의 옵션을 설정할 수 있는 코드.\n",
    "options.add_argument('--no-sandbox')                    \n",
    "options.add_argument('--disable-dev-shm-usage')         \n",
    "options.add_argument('--headless')                      # headless : Broswer 창을 띄우지 않고 수행 (colab에서는 필수).\n",
    "# options.add_argument(\"window-size = 1920,1080\")       # window size 설정\n",
    "\n",
    "\n",
    "browser = webdriver.Chrome(options = options)           # 위 Option을 적용한 Chrome 창을 실행.\n",
    "browser.maximize_window()                               # browser 창 최대화"
   ]
  },
  {
   "cell_type": "code",
   "execution_count": 12,
   "id": "b35fe65a-b9d2-4384-8aca-68a9adaf131f",
   "metadata": {},
   "outputs": [],
   "source": [
    "### 페이지 이동\n",
    "url = \"https://www.naver.com\"\n",
    "browser.get(url)\n",
    "\n",
    "### 유튜버 검색\n",
    "elem = browser.find_element(By.NAME, \"query\")\n",
    "elem.send_keys(\"로또 번호\")\n",
    "elem.send_keys(Keys.ENTER)\n",
    "time.sleep(2)   # 검색 완료까지 대기. \n",
    "\n",
    "### 당첨 번호 추출\n",
    "html = requests.get(browser.current_url)\n",
    "soup = BeautifulSoup(html.text, 'html.parser')\n",
    "\n",
    "prize_turn_ = soup.find(name = 'div', attrs = {'class': 'select_tab'}).find(\"a\").text\n",
    "prize_win_ = soup.find(name = 'div', attrs = {'class': 'winning_number'})\n",
    "\n",
    "prize_win_num, prize_bonus_num = [], []\n",
    "for i in range(6) :\n",
    "    prize_win_num.append(int(prize_win_.findAll(\"span\")[i].text))  # list에 넣어서 결과 보기\n",
    "\n",
    "prize_bonus_num.append(int(soup.find('div', {'class': 'bonus_number'}).find(\"span\").text))\n",
    "\n",
    "browser.quit()"
   ]
  },
  {
   "cell_type": "code",
   "execution_count": 14,
   "id": "c93ef3f9-3490-49dd-b9c9-1fe951765d03",
   "metadata": {},
   "outputs": [
    {
     "name": "stdout",
     "output_type": "stream",
     "text": [
      "========== 똥손 별 당첨된 번호 개수 ==========\n",
      "BF : 7개 {32, 6, 11, 45, 16, 19, 21}\n",
      "DH : 0개 set()\n",
      "HW : 1개 {21}\n",
      "JY : 1개 {11}\n",
      "HJ : 1개 {6}\n",
      "FR : 1개 {19}\n",
      "\n",
      "똥손들이 안 뽑은 숫자 중 당첨 숫자 :  set()\n",
      "똥손들이 뽑은 숫자 중 당첨 숫자 :  {32, 6, 11, 45, 16, 19, 21}\n"
     ]
    }
   ],
   "source": [
    "prize = prize_win_num + prize_bonus_num\n",
    "\n",
    "print(\"=\"*10, \"똥손 별 당첨된 번호 개수\", \"=\"*10)\n",
    "\n",
    "for name_, num_ in shit_hand.items() :\n",
    "    cnt = len(set(num_) & set(prize))\n",
    "    print(\"%s : %d개\" % (name_, cnt), set(num_) & set(prize))\n",
    "    \n",
    "print(\"\\n똥손들이 안 뽑은 숫자 중 당첨 숫자 : \", set(prize) & set(select_num))\n",
    "print(\"똥손들이 뽑은 숫자 중 당첨 숫자 : \", set(prize) & set(except_num))"
   ]
  },
  {
   "cell_type": "code",
   "execution_count": null,
   "id": "4f953867-1327-4868-95c8-1b7f569c85f2",
   "metadata": {},
   "outputs": [],
   "source": []
  }
 ],
 "metadata": {
  "kernelspec": {
   "display_name": "Python 3 (ipykernel)",
   "language": "python",
   "name": "python3"
  },
  "language_info": {
   "codemirror_mode": {
    "name": "ipython",
    "version": 3
   },
   "file_extension": ".py",
   "mimetype": "text/x-python",
   "name": "python",
   "nbconvert_exporter": "python",
   "pygments_lexer": "ipython3",
   "version": "3.8.7"
  }
 },
 "nbformat": 4,
 "nbformat_minor": 5
}
